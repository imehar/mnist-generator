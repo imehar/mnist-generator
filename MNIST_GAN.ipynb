{
 "cells": [
  {
   "cell_type": "code",
   "execution_count": 1,
   "metadata": {
    "colab": {
     "base_uri": "https://localhost:8080/",
     "height": 34
    },
    "colab_type": "code",
    "id": "3hqFBSY0C3lH",
    "outputId": "32a33f89-c5dc-4526-bb93-7fe6e2397636"
   },
   "outputs": [
    {
     "name": "stderr",
     "output_type": "stream",
     "text": [
      "Using TensorFlow backend.\n"
     ]
    }
   ],
   "source": [
    "import numpy as np\n",
    "import keras\n",
    "from keras.layers import Dense, Activation, Conv2D, Flatten, Dense, Dropout, BatchNormalization\n",
    "from keras.layers import LeakyReLU, Input, Reshape, Conv2DTranspose, UpSampling2D, MaxPooling2D\n",
    "from keras.optimizers import Adam\n",
    "from keras.utils import np_utils\n",
    "from keras.models import Sequential, Model, load_model\n",
    "from sklearn.model_selection import train_test_split\n",
    "import matplotlib.pyplot as plt\n",
    "%matplotlib inline"
   ]
  },
  {
   "cell_type": "code",
   "execution_count": 0,
   "metadata": {
    "colab": {},
    "colab_type": "code",
    "id": "ZcMTnYDuDvyf"
   },
   "outputs": [],
   "source": [
    "(X_train, y_train), (X_test, y_test) = keras.datasets.mnist.load_data()"
   ]
  },
  {
   "cell_type": "code",
   "execution_count": 0,
   "metadata": {
    "colab": {},
    "colab_type": "code",
    "id": "XOfSPEawmkIV"
   },
   "outputs": [],
   "source": [
    "adam = Adam(lr=0.0002, beta_1=0.5)"
   ]
  },
  {
   "cell_type": "code",
   "execution_count": 8,
   "metadata": {
    "colab": {
     "base_uri": "https://localhost:8080/",
     "height": 734
    },
    "colab_type": "code",
    "id": "eqFOMGaeGXZ3",
    "outputId": "833c3223-5b7e-4f34-e193-bd017dd75f60"
   },
   "outputs": [
    {
     "name": "stderr",
     "output_type": "stream",
     "text": [
      "WARNING: Logging before flag parsing goes to stderr.\n",
      "W0704 18:05:35.582295 140575307949952 deprecation_wrapper.py:119] From /usr/local/lib/python3.6/dist-packages/keras/backend/tensorflow_backend.py:74: The name tf.get_default_graph is deprecated. Please use tf.compat.v1.get_default_graph instead.\n",
      "\n",
      "W0704 18:05:35.584968 140575307949952 deprecation_wrapper.py:119] From /usr/local/lib/python3.6/dist-packages/keras/backend/tensorflow_backend.py:517: The name tf.placeholder is deprecated. Please use tf.compat.v1.placeholder instead.\n",
      "\n",
      "W0704 18:05:35.588042 140575307949952 deprecation_wrapper.py:119] From /usr/local/lib/python3.6/dist-packages/keras/backend/tensorflow_backend.py:4138: The name tf.random_uniform is deprecated. Please use tf.random.uniform instead.\n",
      "\n",
      "W0704 18:05:35.615741 140575307949952 deprecation_wrapper.py:119] From /usr/local/lib/python3.6/dist-packages/keras/backend/tensorflow_backend.py:3976: The name tf.nn.max_pool is deprecated. Please use tf.nn.max_pool2d instead.\n",
      "\n",
      "W0704 18:05:35.675508 140575307949952 deprecation_wrapper.py:119] From /usr/local/lib/python3.6/dist-packages/keras/optimizers.py:790: The name tf.train.Optimizer is deprecated. Please use tf.compat.v1.train.Optimizer instead.\n",
      "\n",
      "W0704 18:05:35.682057 140575307949952 deprecation_wrapper.py:119] From /usr/local/lib/python3.6/dist-packages/keras/backend/tensorflow_backend.py:3376: The name tf.log is deprecated. Please use tf.math.log instead.\n",
      "\n",
      "W0704 18:05:35.687842 140575307949952 deprecation.py:323] From /usr/local/lib/python3.6/dist-packages/tensorflow/python/ops/nn_impl.py:180: add_dispatch_support.<locals>.wrapper (from tensorflow.python.ops.array_ops) is deprecated and will be removed in a future version.\n",
      "Instructions for updating:\n",
      "Use tf.where in 2.0, which has the same broadcast rule as np.where\n"
     ]
    },
    {
     "name": "stdout",
     "output_type": "stream",
     "text": [
      "_________________________________________________________________\n",
      "Layer (type)                 Output Shape              Param #   \n",
      "=================================================================\n",
      "conv2d_1 (Conv2D)            (None, 26, 26, 64)        640       \n",
      "_________________________________________________________________\n",
      "conv2d_2 (Conv2D)            (None, 24, 24, 64)        36928     \n",
      "_________________________________________________________________\n",
      "max_pooling2d_1 (MaxPooling2 (None, 12, 12, 64)        0         \n",
      "_________________________________________________________________\n",
      "conv2d_3 (Conv2D)            (None, 10, 10, 64)        36928     \n",
      "_________________________________________________________________\n",
      "conv2d_4 (Conv2D)            (None, 8, 8, 64)          36928     \n",
      "_________________________________________________________________\n",
      "max_pooling2d_2 (MaxPooling2 (None, 4, 4, 64)          0         \n",
      "_________________________________________________________________\n",
      "conv2d_5 (Conv2D)            (None, 2, 2, 64)          36928     \n",
      "_________________________________________________________________\n",
      "flatten_1 (Flatten)          (None, 256)               0         \n",
      "_________________________________________________________________\n",
      "dense_1 (Dense)              (None, 1)                 257       \n",
      "=================================================================\n",
      "Total params: 148,609\n",
      "Trainable params: 148,609\n",
      "Non-trainable params: 0\n",
      "_________________________________________________________________\n"
     ]
    }
   ],
   "source": [
    "try:\n",
    "    discriminator = load_model('discriminator.h5')\n",
    "except:\n",
    "    discriminator = Sequential()\n",
    "    \n",
    "    discriminator.add(Conv2D(64,(3,3), activation='relu',input_shape=(28,28,1)))\n",
    "    discriminator.add(Conv2D(64,(3,3), activation='relu'))\n",
    "    discriminator.add(MaxPooling2D((2,2)))\n",
    "    \n",
    "    discriminator.add(Conv2D(64,(3,3), activation='relu'))\n",
    "    discriminator.add(Conv2D(64,(3,3), activation='relu'))\n",
    "    discriminator.add(MaxPooling2D((2,2)))\n",
    "    \n",
    "    discriminator.add(Conv2D(64,(3,3), activation='relu'))\n",
    "    discriminator.add(Flatten())\n",
    "    \n",
    "    discriminator.add(Dense(1, activation='sigmoid'))\n",
    "discriminator.compile(loss='binary_crossentropy', optimizer=adam)\n",
    "discriminator.summary()"
   ]
  },
  {
   "cell_type": "code",
   "execution_count": 0,
   "metadata": {
    "colab": {},
    "colab_type": "code",
    "id": "XUbG_mBd2axU"
   },
   "outputs": [],
   "source": []
  },
  {
   "cell_type": "code",
   "execution_count": 9,
   "metadata": {
    "colab": {
     "base_uri": "https://localhost:8080/",
     "height": 496
    },
    "colab_type": "code",
    "id": "3IMlD2EGNPwh",
    "outputId": "8c5b38d1-6c5e-48bb-f19b-edc0bc3dab7c"
   },
   "outputs": [
    {
     "name": "stderr",
     "output_type": "stream",
     "text": [
      "W0704 18:05:35.757119 140575307949952 deprecation_wrapper.py:119] From /usr/local/lib/python3.6/dist-packages/keras/backend/tensorflow_backend.py:2018: The name tf.image.resize_nearest_neighbor is deprecated. Please use tf.compat.v1.image.resize_nearest_neighbor instead.\n",
      "\n"
     ]
    },
    {
     "name": "stdout",
     "output_type": "stream",
     "text": [
      "_________________________________________________________________\n",
      "Layer (type)                 Output Shape              Param #   \n",
      "=================================================================\n",
      "dense_2 (Dense)              (None, 800)               80800     \n",
      "_________________________________________________________________\n",
      "leaky_re_lu_1 (LeakyReLU)    (None, 800)               0         \n",
      "_________________________________________________________________\n",
      "reshape_1 (Reshape)          (None, 5, 5, 32)          0         \n",
      "_________________________________________________________________\n",
      "up_sampling2d_1 (UpSampling2 (None, 10, 10, 32)        0         \n",
      "_________________________________________________________________\n",
      "conv2d_transpose_1 (Conv2DTr (None, 12, 12, 256)       73984     \n",
      "_________________________________________________________________\n",
      "up_sampling2d_2 (UpSampling2 (None, 24, 24, 256)       0         \n",
      "_________________________________________________________________\n",
      "conv2d_transpose_2 (Conv2DTr (None, 26, 26, 128)       295040    \n",
      "_________________________________________________________________\n",
      "conv2d_transpose_3 (Conv2DTr (None, 28, 28, 1)         1153      \n",
      "_________________________________________________________________\n",
      "activation_1 (Activation)    (None, 28, 28, 1)         0         \n",
      "=================================================================\n",
      "Total params: 450,977\n",
      "Trainable params: 450,977\n",
      "Non-trainable params: 0\n",
      "_________________________________________________________________\n"
     ]
    }
   ],
   "source": [
    "try:\n",
    "    generator = load_model('generator.h5')\n",
    "except:\n",
    "    generator = Sequential()\n",
    "    generator.add(Dense(800, input_dim=100))\n",
    "    generator.add(LeakyReLU(0.2))\n",
    "    \n",
    "    generator.add(Reshape((5,5,32)))\n",
    "    generator.add(UpSampling2D((2,2)))\n",
    "    generator.add(Conv2DTranspose(256,(3,3),activation='relu'))\n",
    "    \n",
    "    generator.add(UpSampling2D((2,2)))\n",
    "    generator.add(Conv2DTranspose(128,(3,3),activation='relu'))\n",
    "    generator.add(Conv2DTranspose(1,(3,3),activation='relu'))\n",
    "    generator.add(Activation('tanh'))\n",
    "    \n",
    "generator.compile(loss='binary_crossentropy', optimizer=adam)\n",
    "generator.summary()"
   ]
  },
  {
   "cell_type": "code",
   "execution_count": 0,
   "metadata": {
    "colab": {},
    "colab_type": "code",
    "id": "fYH2iAO0l9Ta"
   },
   "outputs": [],
   "source": [
    "y_train = np_utils.to_categorical(y_train)"
   ]
  },
  {
   "cell_type": "code",
   "execution_count": 11,
   "metadata": {
    "colab": {
     "base_uri": "https://localhost:8080/",
     "height": 34
    },
    "colab_type": "code",
    "id": "COAxB1-fmKbi",
    "outputId": "16fc4cef-504b-4aef-a2d7-d2e138605d74"
   },
   "outputs": [
    {
     "data": {
      "text/plain": [
       "((60000, 10), (60000, 28, 28))"
      ]
     },
     "execution_count": 11,
     "metadata": {
      "tags": []
     },
     "output_type": "execute_result"
    }
   ],
   "source": [
    "y_train.shape,X_train.shape"
   ]
  },
  {
   "cell_type": "code",
   "execution_count": 0,
   "metadata": {
    "colab": {},
    "colab_type": "code",
    "id": "lzj6wWCa0AMr"
   },
   "outputs": [],
   "source": [
    "X_train = X_train.astype('float64')\n",
    "X_train /= 255\n",
    "X_test = X_test.astype('float64')\n",
    "X_test /= 255"
   ]
  },
  {
   "cell_type": "code",
   "execution_count": 0,
   "metadata": {
    "colab": {},
    "colab_type": "code",
    "id": "E3sCZ244m8U0"
   },
   "outputs": [],
   "source": [
    "X_train = X_train.reshape(len(X_train),28,28,1)"
   ]
  },
  {
   "cell_type": "code",
   "execution_count": 15,
   "metadata": {
    "colab": {
     "base_uri": "https://localhost:8080/",
     "height": 34
    },
    "colab_type": "code",
    "id": "nxPNgdUTpsrC",
    "outputId": "c1e54291-0542-4119-d2e3-5f838e8ed058"
   },
   "outputs": [
    {
     "data": {
      "text/plain": [
       "((60000, 10), (60000, 28, 28, 1))"
      ]
     },
     "execution_count": 15,
     "metadata": {
      "tags": []
     },
     "output_type": "execute_result"
    }
   ],
   "source": [
    "y_train.shape,X_train.shape"
   ]
  },
  {
   "cell_type": "code",
   "execution_count": 0,
   "metadata": {
    "colab": {},
    "colab_type": "code",
    "id": "2LXDSmVJmAHX"
   },
   "outputs": [],
   "source": []
  },
  {
   "cell_type": "code",
   "execution_count": 16,
   "metadata": {
    "colab": {
     "base_uri": "https://localhost:8080/",
     "height": 238
    },
    "colab_type": "code",
    "id": "PKE6FsWN1--J",
    "outputId": "a8187356-2d28-4190-8bb8-d108dace49e2"
   },
   "outputs": [
    {
     "name": "stdout",
     "output_type": "stream",
     "text": [
      "_________________________________________________________________\n",
      "Layer (type)                 Output Shape              Param #   \n",
      "=================================================================\n",
      "input_1 (InputLayer)         (None, 100)               0         \n",
      "_________________________________________________________________\n",
      "sequential_2 (Sequential)    (None, 28, 28, 1)         450977    \n",
      "_________________________________________________________________\n",
      "sequential_1 (Sequential)    (None, 1)                 148609    \n",
      "=================================================================\n",
      "Total params: 599,586\n",
      "Trainable params: 450,977\n",
      "Non-trainable params: 148,609\n",
      "_________________________________________________________________\n"
     ]
    }
   ],
   "source": [
    "try:\n",
    "    gan = load_model( 'gan.h5')\n",
    "except:\n",
    "    discriminator.trainable = False\n",
    "    # gan input (noise) will be 100-dimensional vectors\n",
    "    gan_input = Input(shape=(100,))\n",
    "    # the output of the generator (an image)\n",
    "    x = generator(gan_input)\n",
    "    # get the output of the discriminator (probability if the image is real or not)\n",
    "    gan_output = discriminator(x)\n",
    "    gan = Model(inputs=gan_input, outputs=gan_output)\n",
    "gan.compile(loss='binary_crossentropy', optimizer=adam)\n",
    "gan.summary()"
   ]
  },
  {
   "cell_type": "code",
   "execution_count": 0,
   "metadata": {
    "colab": {},
    "colab_type": "code",
    "id": "99dKSbX83f7r"
   },
   "outputs": [],
   "source": []
  },
  {
   "cell_type": "code",
   "execution_count": 0,
   "metadata": {
    "colab": {},
    "colab_type": "code",
    "id": "OkcTTn3UAjYN"
   },
   "outputs": [],
   "source": [
    "def plot_loss(losses):\n",
    "    d_loss = losses['D']\n",
    "    g_loss = losses['G']\n",
    "    \n",
    "    plt.figure(figsize=(10,8))\n",
    "    plt.plot(d_loss, label=\"Discriminator loss\")\n",
    "    plt.plot(g_loss, label=\"Generator loss\")\n",
    "    plt.xlabel('Epochs')\n",
    "    plt.ylabel('Loss')\n",
    "    plt.legend()\n",
    "    plt.show()"
   ]
  },
  {
   "cell_type": "code",
   "execution_count": 0,
   "metadata": {
    "colab": {},
    "colab_type": "code",
    "id": "i6_0zhFJWDni"
   },
   "outputs": [],
   "source": [
    "def plot_generated(figsize=(12, 2)):\n",
    "    noise = (np.random.random_sample((10,100))*2 - 1)\n",
    "    generated_images = generator.predict(noise)\n",
    "    generated_images = generated_images.reshape(10, 28, 28)\n",
    "#     generated_images -= 1\n",
    "#     generated_images *=255\n",
    "    plt.figure(figsize=figsize)\n",
    "    for i in range(generated_images.shape[0]):\n",
    "        plt.subplot(1, 10, i+1)\n",
    "        plt.imshow(generated_images[i], interpolation='nearest', cmap='gray_r')\n",
    "        plt.axis('off')\n",
    "    plt.tight_layout()\n",
    "    plt.show()"
   ]
  },
  {
   "cell_type": "code",
   "execution_count": 19,
   "metadata": {
    "colab": {
     "base_uri": "https://localhost:8080/",
     "height": 159
    },
    "colab_type": "code",
    "id": "aNEI3reBYWWS",
    "outputId": "c3b753b1-24b7-45d9-cf91-74adc355812a"
   },
   "outputs": [
    {
     "name": "stderr",
     "output_type": "stream",
     "text": [
      "W0704 18:05:36.416211 140575307949952 deprecation_wrapper.py:119] From /usr/local/lib/python3.6/dist-packages/keras/backend/tensorflow_backend.py:2741: The name tf.Session is deprecated. Please use tf.compat.v1.Session instead.\n",
      "\n"
     ]
    },
    {
     "data": {
      "image/png": "[encoded data removed]",
      "text/plain": [
       "<Figure size 864x144 with 10 Axes>"
      ]
     },
     "metadata": {
      "tags": []
     },
     "output_type": "display_data"
    }
   ],
   "source": [
    "plot_generated()"
   ]
  },
  {
   "cell_type": "code",
   "execution_count": 0,
   "metadata": {
    "colab": {},
    "colab_type": "code",
    "id": "xIF5WQuhZCOM"
   },
   "outputs": [],
   "source": []
  },
  {
   "cell_type": "code",
   "execution_count": 0,
   "metadata": {
    "colab": {},
    "colab_type": "code",
    "id": "gcbIIUKUmcgT"
   },
   "outputs": [],
   "source": [
    "def train(epoch=1, ploting_ep = 20 , batch_size=128):\n",
    "    losses = {'D':[],'G':[]}\n",
    "    batch_count = X_train.shape[0] // batch_size\n",
    "    for i in range(1,epoch+1):\n",
    "        for j in range(batch_count):\n",
    "            # Input for the generator\n",
    "            noise_input = (np.random.random_sample((batch_size,100))*2 - 1)\n",
    "\n",
    "            # getting images from X_train of size=batch_size \n",
    "            # these are the real images that will be fed to the discriminator\n",
    "            image_batch = X_train[j*batch_size:(j+1)*batch_size]\n",
    "\n",
    "            # these are the predicted images from the generator\n",
    "            predictions = generator.predict(noise_input, batch_size=batch_size)\n",
    "            \n",
    "            # the discriminator takes in the real images and the generated images\n",
    "            X = np.concatenate([ image_batch,predictions])\n",
    "            # labels for the discriminator\n",
    "            y_discriminator = np.zeros(2*batch_size)\n",
    "            y_discriminator[:batch_size] = 1\n",
    "            # Let's train the discriminator\n",
    "            discriminator.trainable = True\n",
    "            d_loss = discriminator.train_on_batch(X, y_discriminator)\n",
    "\n",
    "            # Let's train the generator\n",
    "            y_generator = np.ones(batch_size)\n",
    "            discriminator.trainable = False\n",
    "            \n",
    "            g_loss = gan.train_on_batch(noise_input, y_generator)\n",
    "        losses['D'].append(d_loss)\n",
    "        losses['G'].append(g_loss)\n",
    "        print(\"Epoch :  {0}/{1}  Dicriminator Loss : {2:.2f}  Generator Loss : {3:.2f}\".format(i,epoch,d_loss,g_loss))\n",
    "        if i==1 or i%ploting_ep==0:\n",
    "            plot_generated()\n",
    "    plot_loss(losses)\n",
    "    return losses"
   ]
  },
  {
   "cell_type": "code",
   "execution_count": 22,
   "metadata": {
    "colab": {
     "base_uri": "https://localhost:8080/",
     "height": 1000
    },
    "colab_type": "code",
    "id": "CtA3pQ3gacpL",
    "outputId": "8b8336c6-8142-4f75-82d8-bff84e897217"
   },
   "outputs": [
    {
     "name": "stdout",
     "output_type": "stream",
     "text": [
      "Epoch :  1/20  Dicriminator Loss : 0.41  Generator Loss : 1.92\n"
     ]
    },
    {
     "data": {
      "image/png": "[encoded data removed]",
      "text/plain": [
       "<Figure size 864x144 with 10 Axes>"
      ]
     },
     "metadata": {
      "tags": []
     },
     "output_type": "display_data"
    },
    {
     "name": "stdout",
     "output_type": "stream",
     "text": [
      "Epoch :  2/20  Dicriminator Loss : 0.37  Generator Loss : 2.10\n",
      "Epoch :  3/20  Dicriminator Loss : 0.43  Generator Loss : 2.01\n",
      "Epoch :  4/20  Dicriminator Loss : 0.35  Generator Loss : 1.81\n",
      "Epoch :  5/20  Dicriminator Loss : 0.39  Generator Loss : 2.09\n"
     ]
    },
    {
     "data": {
      "image/png": "[encoded data removed]",
      "text/plain": [
       "<Figure size 864x144 with 10 Axes>"
      ]
     },
     "metadata": {
      "tags": []
     },
     "output_type": "display_data"
    },
    {
     "name": "stdout",
     "output_type": "stream",
     "text": [
      "Epoch :  6/20  Dicriminator Loss : 0.36  Generator Loss : 2.27\n",
      "Epoch :  7/20  Dicriminator Loss : 0.32  Generator Loss : 1.86\n",
      "Epoch :  8/20  Dicriminator Loss : 0.37  Generator Loss : 1.92\n",
      "Epoch :  9/20  Dicriminator Loss : 0.35  Generator Loss : 1.99\n",
      "Epoch :  10/20  Dicriminator Loss : 0.37  Generator Loss : 1.91\n"
     ]
    },
    {
     "data": {
      "image/png": "[encoded data removed]",
      "text/plain": [
       "<Figure size 864x144 with 10 Axes>"
      ]
     },
     "metadata": {
      "tags": []
     },
     "output_type": "display_data"
    },
    {
     "name": "stdout",
     "output_type": "stream",
     "text": [
      "Epoch :  11/20  Dicriminator Loss : 0.35  Generator Loss : 2.00\n",
      "Epoch :  12/20  Dicriminator Loss : 0.39  Generator Loss : 2.52\n",
      "Epoch :  13/20  Dicriminator Loss : 0.39  Generator Loss : 2.40\n",
      "Epoch :  14/20  Dicriminator Loss : 0.39  Generator Loss : 2.76\n",
      "Epoch :  15/20  Dicriminator Loss : 0.33  Generator Loss : 2.25\n"
     ]
    },
    {
     "data": {
      "image/png": "[encoded data removed]",
      "text/plain": [
       "<Figure size 864x144 with 10 Axes>"
      ]
     },
     "metadata": {
      "tags": []
     },
     "output_type": "display_data"
    },
    {
     "name": "stdout",
     "output_type": "stream",
     "text": [
      "Epoch :  16/20  Dicriminator Loss : 0.34  Generator Loss : 2.20\n",
      "Epoch :  17/20  Dicriminator Loss : 0.37  Generator Loss : 2.51\n",
      "Epoch :  18/20  Dicriminator Loss : 0.35  Generator Loss : 2.55\n",
      "Epoch :  19/20  Dicriminator Loss : 0.35  Generator Loss : 2.76\n",
      "Epoch :  20/20  Dicriminator Loss : 0.29  Generator Loss : 2.42\n"
     ]
    },
    {
     "data": {
      "image/png": "[encoded data removed]",
      "text/plain": [
       "<Figure size 864x144 with 10 Axes>"
      ]
     },
     "metadata": {
      "tags": []
     },
     "output_type": "display_data"
    },
    {
     "data": {
      "image/png": "[encoded data removed]",
      "text/plain": [
       "<Figure size 720x576 with 1 Axes>"
      ]
     },
     "metadata": {
      "tags": []
     },
     "output_type": "display_data"
    },
    {
     "name": "stdout",
     "output_type": "stream",
     "text": [
      "CPU times: user 5min 32s, sys: 2min 44s, total: 8min 16s\n",
      "Wall time: 9min 35s\n"
     ]
    }
   ],
   "source": [
    "%%time\n",
    "losses = train(20,5)"
   ]
  },
  {
   "cell_type": "code",
   "execution_count": 0,
   "metadata": {
    "colab": {},
    "colab_type": "code",
    "id": "hidZCTmTYlXt"
   },
   "outputs": [],
   "source": []
  },
  {
   "cell_type": "code",
   "execution_count": 0,
   "metadata": {
    "colab": {},
    "colab_type": "code",
    "id": "TWKHYH6QUAJn"
   },
   "outputs": [],
   "source": [
    "gan.save('gan.h5')\n",
    "generator.save('generator.h5')\n",
    "discriminator.save('discriminator.h5')"
   ]
  },
  {
   "cell_type": "code",
   "execution_count": 0,
   "metadata": {
    "colab": {},
    "colab_type": "code",
    "id": "bZlihSSh_SDX"
   },
   "outputs": [],
   "source": []
  }
 ],
 "metadata": {
  "accelerator": "GPU",
  "colab": {
   "collapsed_sections": [],
   "name": "MNIST.ipynb",
   "provenance": [],
   "version": "0.3.2"
  },
  "kernelspec": {
   "display_name": "Python 3",
   "language": "python",
   "name": "python3"
  },
  "language_info": {
   "codemirror_mode": {
    "name": "ipython",
    "version": 3
   },
   "file_extension": ".py",
   "mimetype": "text/x-python",
   "name": "python",
   "nbconvert_exporter": "python",
   "pygments_lexer": "ipython3",
   "version": "3.6.8"
  }
 },
 "nbformat": 4,
 "nbformat_minor": 1
}
