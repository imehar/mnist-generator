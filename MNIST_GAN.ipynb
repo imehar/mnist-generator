{
 "cells": [
  {
   "cell_type": "code",
   "execution_count": 1,
   "metadata": {
    "colab": {
     "base_uri": "https://localhost:8080/",
     "height": 34
    },
    "colab_type": "code",
    "id": "3hqFBSY0C3lH",
    "outputId": "72609340-3aac-4468-e932-94d46cfc01cf"
   },
   "outputs": [
    {
     "name": "stderr",
     "output_type": "stream",
     "text": [
      "Using TensorFlow backend.\n"
     ]
    }
   ],
   "source": [
    "import numpy as np\n",
    "import keras\n",
    "from keras.layers import Dense, Activation, Conv2D, Flatten, Dense, Dropout, BatchNormalization\n",
    "from keras.layers import LeakyReLU, Input, Reshape, Conv2DTranspose, UpSampling2D\n",
    "from keras.optimizers import Adam\n",
    "from keras.utils import np_utils\n",
    "from keras.models import Sequential, Model, load_model\n",
    "from sklearn.model_selection import train_test_split\n",
    "import matplotlib.pyplot as plt\n",
    "%matplotlib inline"
   ]
  },
  {
   "cell_type": "code",
   "execution_count": 0,
   "metadata": {
    "colab": {},
    "colab_type": "code",
    "id": "ZcMTnYDuDvyf"
   },
   "outputs": [],
   "source": [
    "(X_train, y_train), (X_test, y_test) = keras.datasets.mnist.load_data()"
   ]
  },
  {
   "cell_type": "code",
   "execution_count": 6,
   "metadata": {
    "colab": {
     "base_uri": "https://localhost:8080/",
     "height": 34
    },
    "colab_type": "code",
    "id": "_k9SQPIOE9pa",
    "outputId": "f1ea3777-d908-4391-add2-fc0056621c72"
   },
   "outputs": [
    {
     "data": {
      "text/plain": [
       "(60000, 28, 28)"
      ]
     },
     "execution_count": 6,
     "metadata": {
      "tags": []
     },
     "output_type": "execute_result"
    }
   ],
   "source": [
    "(X_train.shape)"
   ]
  },
  {
   "cell_type": "code",
   "execution_count": 0,
   "metadata": {
    "colab": {},
    "colab_type": "code",
    "id": "XOfSPEawmkIV"
   },
   "outputs": [],
   "source": [
    "adam = Adam(lr=0.0002, beta_1=0.5)"
   ]
  },
  {
   "cell_type": "code",
   "execution_count": 8,
   "metadata": {
    "colab": {
     "base_uri": "https://localhost:8080/",
     "height": 666
    },
    "colab_type": "code",
    "id": "eqFOMGaeGXZ3",
    "outputId": "e94c64d2-fc49-4d3b-b5e1-55b67fbeef54"
   },
   "outputs": [
    {
     "name": "stderr",
     "output_type": "stream",
     "text": [
      "WARNING: Logging before flag parsing goes to stderr.\n",
      "W0704 13:46:40.819725 139906769266560 deprecation_wrapper.py:119] From /usr/local/lib/python3.6/dist-packages/keras/backend/tensorflow_backend.py:74: The name tf.get_default_graph is deprecated. Please use tf.compat.v1.get_default_graph instead.\n",
      "\n",
      "W0704 13:46:40.829579 139906769266560 deprecation_wrapper.py:119] From /usr/local/lib/python3.6/dist-packages/keras/backend/tensorflow_backend.py:517: The name tf.placeholder is deprecated. Please use tf.compat.v1.placeholder instead.\n",
      "\n",
      "W0704 13:46:40.836718 139906769266560 deprecation_wrapper.py:119] From /usr/local/lib/python3.6/dist-packages/keras/backend/tensorflow_backend.py:4138: The name tf.random_uniform is deprecated. Please use tf.random.uniform instead.\n",
      "\n",
      "W0704 13:46:40.939411 139906769266560 deprecation_wrapper.py:119] From /usr/local/lib/python3.6/dist-packages/keras/optimizers.py:790: The name tf.train.Optimizer is deprecated. Please use tf.compat.v1.train.Optimizer instead.\n",
      "\n",
      "W0704 13:46:40.949594 139906769266560 deprecation_wrapper.py:119] From /usr/local/lib/python3.6/dist-packages/keras/backend/tensorflow_backend.py:3376: The name tf.log is deprecated. Please use tf.math.log instead.\n",
      "\n",
      "W0704 13:46:40.957292 139906769266560 deprecation.py:323] From /usr/local/lib/python3.6/dist-packages/tensorflow/python/ops/nn_impl.py:180: add_dispatch_support.<locals>.wrapper (from tensorflow.python.ops.array_ops) is deprecated and will be removed in a future version.\n",
      "Instructions for updating:\n",
      "Use tf.where in 2.0, which has the same broadcast rule as np.where\n"
     ]
    },
    {
     "name": "stdout",
     "output_type": "stream",
     "text": [
      "_________________________________________________________________\n",
      "Layer (type)                 Output Shape              Param #   \n",
      "=================================================================\n",
      "conv2d_1 (Conv2D)            (None, 28, 28, 128)       1280      \n",
      "_________________________________________________________________\n",
      "dense_1 (Dense)              (None, 28, 28, 1)         129       \n",
      "_________________________________________________________________\n",
      "reshape_1 (Reshape)          (None, 784)               0         \n",
      "_________________________________________________________________\n",
      "dense_2 (Dense)              (None, 256)               200960    \n",
      "_________________________________________________________________\n",
      "leaky_re_lu_1 (LeakyReLU)    (None, 256)               0         \n",
      "_________________________________________________________________\n",
      "dense_3 (Dense)              (None, 256)               65792     \n",
      "_________________________________________________________________\n",
      "leaky_re_lu_2 (LeakyReLU)    (None, 256)               0         \n",
      "_________________________________________________________________\n",
      "dense_4 (Dense)              (None, 1)                 257       \n",
      "=================================================================\n",
      "Total params: 268,418\n",
      "Trainable params: 268,418\n",
      "Non-trainable params: 0\n",
      "_________________________________________________________________\n"
     ]
    }
   ],
   "source": [
    "try:\n",
    "    discriminator = load_model('discriminator.h5')\n",
    "except:\n",
    "    discriminator = Sequential()\n",
    "    discriminator.add(Conv2D(128,(3,3), activation='relu',input_shape=(28,28,1),padding='same'))\n",
    "    discriminator.add(Dense(1,activation='relu'))\n",
    "    discriminator.add(Reshape((784,)))\n",
    "    # discriminator.add(Dropout(0.3))\n",
    "\n",
    "    discriminator.add(Dense(256))\n",
    "    discriminator.add(LeakyReLU(0.2))\n",
    "    # discriminator.add(Dropout(0.3))\n",
    "\n",
    "    discriminator.add(Dense(256))\n",
    "    discriminator.add(LeakyReLU(0.2))\n",
    "    # discriminator.add(Dropout(0.3))\n",
    "\n",
    "    discriminator.add(Dense(1, activation='sigmoid'))\n",
    "discriminator.compile(loss='binary_crossentropy', optimizer=adam)\n",
    "discriminator.summary()"
   ]
  },
  {
   "cell_type": "code",
   "execution_count": 0,
   "metadata": {
    "colab": {},
    "colab_type": "code",
    "id": "XUbG_mBd2axU"
   },
   "outputs": [],
   "source": []
  },
  {
   "cell_type": "code",
   "execution_count": 9,
   "metadata": {
    "colab": {
     "base_uri": "https://localhost:8080/",
     "height": 496
    },
    "colab_type": "code",
    "id": "3IMlD2EGNPwh",
    "outputId": "7e372597-944b-4fe4-ea46-12c71f4455e8"
   },
   "outputs": [
    {
     "name": "stderr",
     "output_type": "stream",
     "text": [
      "W0704 13:46:41.053466 139906769266560 deprecation_wrapper.py:119] From /usr/local/lib/python3.6/dist-packages/keras/backend/tensorflow_backend.py:2018: The name tf.image.resize_nearest_neighbor is deprecated. Please use tf.compat.v1.image.resize_nearest_neighbor instead.\n",
      "\n"
     ]
    },
    {
     "name": "stdout",
     "output_type": "stream",
     "text": [
      "_________________________________________________________________\n",
      "Layer (type)                 Output Shape              Param #   \n",
      "=================================================================\n",
      "dense_5 (Dense)              (None, 800)               8800      \n",
      "_________________________________________________________________\n",
      "leaky_re_lu_3 (LeakyReLU)    (None, 800)               0         \n",
      "_________________________________________________________________\n",
      "reshape_2 (Reshape)          (None, 5, 5, 32)          0         \n",
      "_________________________________________________________________\n",
      "up_sampling2d_1 (UpSampling2 (None, 10, 10, 32)        0         \n",
      "_________________________________________________________________\n",
      "conv2d_transpose_1 (Conv2DTr (None, 12, 12, 256)       73984     \n",
      "_________________________________________________________________\n",
      "up_sampling2d_2 (UpSampling2 (None, 24, 24, 256)       0         \n",
      "_________________________________________________________________\n",
      "conv2d_transpose_2 (Conv2DTr (None, 26, 26, 128)       295040    \n",
      "_________________________________________________________________\n",
      "conv2d_transpose_3 (Conv2DTr (None, 28, 28, 1)         1153      \n",
      "_________________________________________________________________\n",
      "activation_1 (Activation)    (None, 28, 28, 1)         0         \n",
      "=================================================================\n",
      "Total params: 378,977\n",
      "Trainable params: 378,977\n",
      "Non-trainable params: 0\n",
      "_________________________________________________________________\n"
     ]
    }
   ],
   "source": [
    "try:\n",
    "    generator = load_model('generator.h5')\n",
    "except:\n",
    "    generator = Sequential()\n",
    "    generator.add(Dense(800, input_dim=10))\n",
    "    generator.add(LeakyReLU(0.2))\n",
    "    generator.add(Reshape((5,5,32)))\n",
    "    generator.add(UpSampling2D((2,2)))\n",
    "    generator.add(Conv2DTranspose(256,(3,3),activation='relu'))\n",
    "    generator.add(UpSampling2D((2,2)))\n",
    "    generator.add(Conv2DTranspose(128,(3,3),activation='relu'))\n",
    "    generator.add(Conv2DTranspose(1,(3,3),activation='relu'))\n",
    "    generator.add(Activation('tanh'))\n",
    "    \n",
    "generator.compile(loss='binary_crossentropy', optimizer=adam)\n",
    "generator.summary()"
   ]
  },
  {
   "cell_type": "code",
   "execution_count": 0,
   "metadata": {
    "colab": {},
    "colab_type": "code",
    "id": "fYH2iAO0l9Ta"
   },
   "outputs": [],
   "source": [
    "y_train = np_utils.to_categorical(y_train)"
   ]
  },
  {
   "cell_type": "code",
   "execution_count": 11,
   "metadata": {
    "colab": {
     "base_uri": "https://localhost:8080/",
     "height": 34
    },
    "colab_type": "code",
    "id": "COAxB1-fmKbi",
    "outputId": "7789ef20-18a1-47e8-c4b9-a6a2c4c68787"
   },
   "outputs": [
    {
     "data": {
      "text/plain": [
       "((60000, 10), (60000, 28, 28))"
      ]
     },
     "execution_count": 11,
     "metadata": {
      "tags": []
     },
     "output_type": "execute_result"
    }
   ],
   "source": [
    "y_train.shape,X_train.shape"
   ]
  },
  {
   "cell_type": "code",
   "execution_count": 0,
   "metadata": {
    "colab": {},
    "colab_type": "code",
    "id": "lzj6wWCa0AMr"
   },
   "outputs": [],
   "source": [
    "X_train = X_train.astype('float64')\n",
    "X_train /= 255\n",
    "X_test = X_test.astype('float64')\n",
    "X_test /= 255"
   ]
  },
  {
   "cell_type": "code",
   "execution_count": 0,
   "metadata": {
    "colab": {},
    "colab_type": "code",
    "id": "h3Z8svb_l9QU"
   },
   "outputs": [],
   "source": [
    "#y_train = y_train.reshape((len(y_train),10))"
   ]
  },
  {
   "cell_type": "code",
   "execution_count": 0,
   "metadata": {
    "colab": {},
    "colab_type": "code",
    "id": "E3sCZ244m8U0"
   },
   "outputs": [],
   "source": [
    "X_train = X_train.reshape(len(X_train),28,28,1)"
   ]
  },
  {
   "cell_type": "code",
   "execution_count": 15,
   "metadata": {
    "colab": {
     "base_uri": "https://localhost:8080/",
     "height": 34
    },
    "colab_type": "code",
    "id": "nxPNgdUTpsrC",
    "outputId": "f9c7b3e7-02ee-428a-9c6f-da5b24e5af92"
   },
   "outputs": [
    {
     "data": {
      "text/plain": [
       "((60000, 10), (60000, 28, 28, 1))"
      ]
     },
     "execution_count": 15,
     "metadata": {
      "tags": []
     },
     "output_type": "execute_result"
    }
   ],
   "source": [
    "y_train.shape,X_train.shape"
   ]
  },
  {
   "cell_type": "code",
   "execution_count": 16,
   "metadata": {
    "colab": {
     "base_uri": "https://localhost:8080/",
     "height": 238
    },
    "colab_type": "code",
    "id": "PKE6FsWN1--J",
    "outputId": "67d06249-d104-406a-ff75-f95d5f0a1038"
   },
   "outputs": [
    {
     "name": "stdout",
     "output_type": "stream",
     "text": [
      "_________________________________________________________________\n",
      "Layer (type)                 Output Shape              Param #   \n",
      "=================================================================\n",
      "input_1 (InputLayer)         (None, 10)                0         \n",
      "_________________________________________________________________\n",
      "sequential_2 (Sequential)    (None, 28, 28, 1)         378977    \n",
      "_________________________________________________________________\n",
      "sequential_1 (Sequential)    (None, 1)                 268418    \n",
      "=================================================================\n",
      "Total params: 647,395\n",
      "Trainable params: 378,977\n",
      "Non-trainable params: 268,418\n",
      "_________________________________________________________________\n"
     ]
    }
   ],
   "source": [
    "try:\n",
    "    gan = load_model('gan.h5')\n",
    "except:\n",
    "    discriminator.trainable = False\n",
    "    # gan input (noise) will be 10-dimensional vectors\n",
    "    gan_input = Input(shape=(10,))\n",
    "    # the output of the generator (an image)\n",
    "    x = generator(gan_input)\n",
    "    # get the output of the discriminator (probability if the image is real or not)\n",
    "    gan_output = discriminator(x)\n",
    "    gan = Model(inputs=gan_input, outputs=gan_output)\n",
    "gan.compile(loss='binary_crossentropy', optimizer=adam)\n",
    "gan.summary()"
   ]
  },
  {
   "cell_type": "code",
   "execution_count": 0,
   "metadata": {
    "colab": {},
    "colab_type": "code",
    "id": "99dKSbX83f7r"
   },
   "outputs": [],
   "source": []
  },
  {
   "cell_type": "code",
   "execution_count": 0,
   "metadata": {
    "colab": {},
    "colab_type": "code",
    "id": "OkcTTn3UAjYN"
   },
   "outputs": [],
   "source": [
    "def plot_loss(losses):\n",
    "    d_loss = losses['D']\n",
    "    g_loss = losses['G']\n",
    "    plt.figure(figsize=(10,8))\n",
    "    plt.plot(d_loss, label=\"Discriminator loss\")\n",
    "    plt.plot(g_loss, label=\"Generator loss\")\n",
    "    plt.xlabel('Epochs')\n",
    "    plt.ylabel('Loss')\n",
    "    plt.legend()\n",
    "    plt.show()"
   ]
  },
  {
   "cell_type": "code",
   "execution_count": 0,
   "metadata": {
    "colab": {},
    "colab_type": "code",
    "id": "i6_0zhFJWDni"
   },
   "outputs": [],
   "source": [
    "def plot_generated(figsize=(12, 2)):\n",
    "    noise = y_train[np.random.randint(0, y_train.shape[0], size=10)]\n",
    "    generated_images = generator.predict(noise)\n",
    "    generated_images = generated_images.reshape(10, 28, 28)\n",
    "    plt.figure(figsize=figsize)\n",
    "    for i in range(generated_images.shape[0]):\n",
    "        plt.subplot(1, 10, i+1)\n",
    "        plt.imshow(generated_images[i], interpolation='nearest', cmap='gray_r')\n",
    "        plt.axis('off')\n",
    "    plt.tight_layout()\n",
    "    plt.show()"
   ]
  },
  {
   "cell_type": "code",
   "execution_count": 19,
   "metadata": {
    "colab": {
     "base_uri": "https://localhost:8080/",
     "height": 159
    },
    "colab_type": "code",
    "id": "aNEI3reBYWWS",
    "outputId": "142b3585-a4e7-4ee0-fa65-11efc6fa43fc"
   },
   "outputs": [
    {
     "name": "stderr",
     "output_type": "stream",
     "text": [
      "W0704 13:46:41.929654 139906769266560 deprecation_wrapper.py:119] From /usr/local/lib/python3.6/dist-packages/keras/backend/tensorflow_backend.py:2741: The name tf.Session is deprecated. Please use tf.compat.v1.Session instead.\n",
      "\n"
     ]
    },
    {
     "data": {
      "image/png": "[encoded data removed]",
      "text/plain": [
       "<Figure size 864x144 with 10 Axes>"
      ]
     },
     "metadata": {
      "tags": []
     },
     "output_type": "display_data"
    }
   ],
   "source": [
    "plot_generated()"
   ]
  },
  {
   "cell_type": "code",
   "execution_count": 0,
   "metadata": {
    "colab": {},
    "colab_type": "code",
    "id": "D6GxVvnCYX9k"
   },
   "outputs": [],
   "source": []
  },
  {
   "cell_type": "code",
   "execution_count": 0,
   "metadata": {
    "colab": {},
    "colab_type": "code",
    "id": "gcbIIUKUmcgT"
   },
   "outputs": [],
   "source": [
    "def train(epoch=1, ploting_ep = 20 , batch_size=128):\n",
    "    losses = {'D':[],'G':[]}\n",
    "    batch_count = X_train.shape[0] // batch_size\n",
    "    for i in range(1,epoch+1):\n",
    "        for j in range(batch_count):\n",
    "            # Input for the generator\n",
    "            noise_input = y_train[j*batch_size:(j+1)*batch_size]\n",
    "\n",
    "            # getting random images from X_train of size=batch_size \n",
    "            # these are the real images that will be fed to the discriminator\n",
    "            image_batch = X_train[j*batch_size:(j+1)*batch_size]\n",
    "\n",
    "            # these are the predicted images from the generator\n",
    "            predictions = generator.predict(noise_input, batch_size=batch_size)\n",
    "            \n",
    "            # the discriminator takes in the real images and the generated images\n",
    "            X = np.concatenate([ image_batch,predictions])\n",
    "            \n",
    "            # labels for the discriminator\n",
    "            y_discriminator = np.zeros(2*batch_size)\n",
    "            y_discriminator[:batch_size] = 1\n",
    "            \n",
    "            # Let's train the discriminator\n",
    "            discriminator.trainable = True\n",
    "            d_loss = discriminator.train_on_batch(X, y_discriminator)\n",
    "\n",
    "            # Let's train the generator\n",
    "            y_generator = np.ones(batch_size)\n",
    "            discriminator.trainable = False\n",
    "            \n",
    "            g_loss = gan.train_on_batch(noise_input, y_generator)\n",
    "        losses['D'].append(d_loss)\n",
    "        losses['G'].append(g_loss)\n",
    "        print(\"Epoch :  {0}/{1}  Dicriminator Loss : {2:.2f}  Generator Loss : {3:.2f}\".format(i,epoch,d_loss,g_loss))\n",
    "        if i==1 or i%ploting_ep==0:\n",
    "            plot_generated()\n",
    "    plot_loss(losses)\n",
    "    return losses"
   ]
  },
  {
   "cell_type": "code",
   "execution_count": 22,
   "metadata": {
    "colab": {
     "base_uri": "https://localhost:8080/",
     "height": 1000
    },
    "colab_type": "code",
    "id": "CtA3pQ3gacpL",
    "outputId": "9c49185e-1606-49e8-faeb-590c1d0c1b11"
   },
   "outputs": [
    {
     "name": "stdout",
     "output_type": "stream",
     "text": [
      "Epoch :  1/100  Dicriminator Loss : 0.36  Generator Loss : 1.92\n"
     ]
    },
    {
     "data": {
      "image/png": "[encoded data removed]",
      "text/plain": [
       "<Figure size 864x144 with 10 Axes>"
      ]
     },
     "metadata": {
      "tags": []
     },
     "output_type": "display_data"
    },
    {
     "name": "stdout",
     "output_type": "stream",
     "text": [
      "Epoch :  2/100  Dicriminator Loss : 0.61  Generator Loss : 4.47\n",
      "Epoch :  3/100  Dicriminator Loss : 0.27  Generator Loss : 2.23\n",
      "Epoch :  4/100  Dicriminator Loss : 0.21  Generator Loss : 1.81\n",
      "Epoch :  5/100  Dicriminator Loss : 0.38  Generator Loss : 1.69\n"
     ]
    },
    {
     "data": {
      "image/png": "[encoded data removed]",
      "text/plain": [
       "<Figure size 864x144 with 10 Axes>"
      ]
     },
     "metadata": {
      "tags": []
     },
     "output_type": "display_data"
    },
    {
     "name": "stdout",
     "output_type": "stream",
     "text": [
      "Epoch :  6/100  Dicriminator Loss : 0.28  Generator Loss : 2.59\n",
      "Epoch :  7/100  Dicriminator Loss : 0.52  Generator Loss : 1.83\n",
      "Epoch :  8/100  Dicriminator Loss : 0.42  Generator Loss : 1.42\n",
      "Epoch :  9/100  Dicriminator Loss : 0.40  Generator Loss : 2.00\n",
      "Epoch :  10/100  Dicriminator Loss : 0.25  Generator Loss : 1.76\n"
     ]
    },
    {
     "data": {
      "image/png": "[encoded data removed]",
      "text/plain": [
       "<Figure size 864x144 with 10 Axes>"
      ]
     },
     "metadata": {
      "tags": []
     },
     "output_type": "display_data"
    },
    {
     "name": "stdout",
     "output_type": "stream",
     "text": [
      "Epoch :  11/100  Dicriminator Loss : 0.33  Generator Loss : 3.49\n",
      "Epoch :  12/100  Dicriminator Loss : 0.28  Generator Loss : 1.79\n",
      "Epoch :  13/100  Dicriminator Loss : 0.27  Generator Loss : 1.87\n",
      "Epoch :  14/100  Dicriminator Loss : 0.28  Generator Loss : 2.17\n",
      "Epoch :  15/100  Dicriminator Loss : 0.24  Generator Loss : 1.80\n"
     ]
    },
    {
     "data": {
      "image/png": "[encoded data removed]",
      "text/plain": [
       "<Figure size 864x144 with 10 Axes>"
      ]
     },
     "metadata": {
      "tags": []
     },
     "output_type": "display_data"
    },
    {
     "name": "stdout",
     "output_type": "stream",
     "text": [
      "Epoch :  16/100  Dicriminator Loss : 0.31  Generator Loss : 2.69\n",
      "Epoch :  17/100  Dicriminator Loss : 0.46  Generator Loss : 1.18\n",
      "Epoch :  18/100  Dicriminator Loss : 0.41  Generator Loss : 1.52\n",
      "Epoch :  19/100  Dicriminator Loss : 0.30  Generator Loss : 1.65\n",
      "Epoch :  20/100  Dicriminator Loss : 0.22  Generator Loss : 1.90\n"
     ]
    },
    {
     "data": {
      "image/png": "[encoded data removed]",
      "text/plain": [
       "<Figure size 864x144 with 10 Axes>"
      ]
     },
     "metadata": {
      "tags": []
     },
     "output_type": "display_data"
    },
    {
     "name": "stdout",
     "output_type": "stream",
     "text": [
      "Epoch :  21/100  Dicriminator Loss : 0.16  Generator Loss : 2.31\n",
      "Epoch :  22/100  Dicriminator Loss : 0.29  Generator Loss : 2.52\n",
      "Epoch :  23/100  Dicriminator Loss : 0.23  Generator Loss : 1.99\n",
      "Epoch :  24/100  Dicriminator Loss : 0.31  Generator Loss : 3.05\n",
      "Epoch :  25/100  Dicriminator Loss : 0.30  Generator Loss : 1.98\n"
     ]
    },
    {
     "data": {
      "image/png": "[encoded data removed]",
      "text/plain": [
       "<Figure size 864x144 with 10 Axes>"
      ]
     },
     "metadata": {
      "tags": []
     },
     "output_type": "display_data"
    },
    {
     "name": "stdout",
     "output_type": "stream",
     "text": [
      "Epoch :  26/100  Dicriminator Loss : 0.27  Generator Loss : 1.76\n",
      "Epoch :  27/100  Dicriminator Loss : 0.29  Generator Loss : 4.14\n",
      "Epoch :  28/100  Dicriminator Loss : 0.20  Generator Loss : 2.75\n",
      "Epoch :  29/100  Dicriminator Loss : 0.41  Generator Loss : 2.57\n",
      "Epoch :  30/100  Dicriminator Loss : 0.24  Generator Loss : 2.07\n"
     ]
    },
    {
     "data": {
      "image/png": "[encoded data removed]",
      "text/plain": [
       "<Figure size 864x144 with 10 Axes>"
      ]
     },
     "metadata": {
      "tags": []
     },
     "output_type": "display_data"
    },
    {
     "name": "stdout",
     "output_type": "stream",
     "text": [
      "Epoch :  31/100  Dicriminator Loss : 0.09  Generator Loss : 3.58\n",
      "Epoch :  32/100  Dicriminator Loss : 0.12  Generator Loss : 3.86\n",
      "Epoch :  33/100  Dicriminator Loss : 0.19  Generator Loss : 2.61\n",
      "Epoch :  34/100  Dicriminator Loss : 0.09  Generator Loss : 3.12\n",
      "Epoch :  35/100  Dicriminator Loss : 0.10  Generator Loss : 3.58\n"
     ]
    },
    {
     "data": {
      "image/png": "[encoded data removed]",
      "text/plain": [
       "<Figure size 864x144 with 10 Axes>"
      ]
     },
     "metadata": {
      "tags": []
     },
     "output_type": "display_data"
    },
    {
     "name": "stdout",
     "output_type": "stream",
     "text": [
      "Epoch :  36/100  Dicriminator Loss : 0.24  Generator Loss : 4.67\n",
      "Epoch :  37/100  Dicriminator Loss : 0.19  Generator Loss : 1.59\n",
      "Epoch :  38/100  Dicriminator Loss : 0.22  Generator Loss : 3.63\n",
      "Epoch :  39/100  Dicriminator Loss : 0.12  Generator Loss : 2.75\n",
      "Epoch :  40/100  Dicriminator Loss : 0.18  Generator Loss : 3.58\n"
     ]
    },
    {
     "data": {
      "image/png": "[encoded data removed]",
      "text/plain": [
       "<Figure size 864x144 with 10 Axes>"
      ]
     },
     "metadata": {
      "tags": []
     },
     "output_type": "display_data"
    },
    {
     "name": "stdout",
     "output_type": "stream",
     "text": [
      "Epoch :  41/100  Dicriminator Loss : 0.18  Generator Loss : 2.64\n",
      "Epoch :  42/100  Dicriminator Loss : 0.24  Generator Loss : 2.35\n",
      "Epoch :  43/100  Dicriminator Loss : 0.17  Generator Loss : 4.94\n",
      "Epoch :  44/100  Dicriminator Loss : 0.13  Generator Loss : 3.05\n",
      "Epoch :  45/100  Dicriminator Loss : 0.13  Generator Loss : 5.69\n"
     ]
    },
    {
     "data": {
      "image/png": "[encoded data removed]",
      "text/plain": [
       "<Figure size 864x144 with 10 Axes>"
      ]
     },
     "metadata": {
      "tags": []
     },
     "output_type": "display_data"
    },
    {
     "name": "stdout",
     "output_type": "stream",
     "text": [
      "Epoch :  46/100  Dicriminator Loss : 0.12  Generator Loss : 3.35\n",
      "Epoch :  47/100  Dicriminator Loss : 0.19  Generator Loss : 2.97\n",
      "Epoch :  48/100  Dicriminator Loss : 0.06  Generator Loss : 3.59\n",
      "Epoch :  49/100  Dicriminator Loss : 0.08  Generator Loss : 3.09\n",
      "Epoch :  50/100  Dicriminator Loss : 0.11  Generator Loss : 3.21\n"
     ]
    },
    {
     "data": {
      "image/png": "[encoded data removed]",
      "text/plain": [
       "<Figure size 864x144 with 10 Axes>"
      ]
     },
     "metadata": {
      "tags": []
     },
     "output_type": "display_data"
    },
    {
     "name": "stdout",
     "output_type": "stream",
     "text": [
      "Epoch :  51/100  Dicriminator Loss : 0.08  Generator Loss : 3.78\n",
      "Epoch :  52/100  Dicriminator Loss : 0.11  Generator Loss : 3.00\n",
      "Epoch :  53/100  Dicriminator Loss : 0.14  Generator Loss : 3.59\n",
      "Epoch :  54/100  Dicriminator Loss : 0.02  Generator Loss : 3.76\n",
      "Epoch :  55/100  Dicriminator Loss : 0.00  Generator Loss : 6.06\n"
     ]
    },
    {
     "data": {
      "image/png": "[encoded data removed]",
      "text/plain": [
       "<Figure size 864x144 with 10 Axes>"
      ]
     },
     "metadata": {
      "tags": []
     },
     "output_type": "display_data"
    },
    {
     "name": "stdout",
     "output_type": "stream",
     "text": [
      "Epoch :  56/100  Dicriminator Loss : 0.26  Generator Loss : 4.42\n",
      "Epoch :  57/100  Dicriminator Loss : 0.15  Generator Loss : 2.73\n",
      "Epoch :  58/100  Dicriminator Loss : 0.18  Generator Loss : 2.85\n",
      "Epoch :  59/100  Dicriminator Loss : 0.19  Generator Loss : 2.47\n",
      "Epoch :  60/100  Dicriminator Loss : 0.20  Generator Loss : 2.52\n"
     ]
    },
    {
     "data": {
      "image/png": "[encoded data removed]",
      "text/plain": [
       "<Figure size 864x144 with 10 Axes>"
      ]
     },
     "metadata": {
      "tags": []
     },
     "output_type": "display_data"
    },
    {
     "name": "stdout",
     "output_type": "stream",
     "text": [
      "Epoch :  61/100  Dicriminator Loss : 0.26  Generator Loss : 2.05\n",
      "Epoch :  62/100  Dicriminator Loss : 0.12  Generator Loss : 3.41\n",
      "Epoch :  63/100  Dicriminator Loss : 0.20  Generator Loss : 2.35\n",
      "Epoch :  64/100  Dicriminator Loss : 0.20  Generator Loss : 2.27\n",
      "Epoch :  65/100  Dicriminator Loss : 0.13  Generator Loss : 2.51\n"
     ]
    },
    {
     "data": {
      "image/png": "[encoded data removed]",
      "text/plain": [
       "<Figure size 864x144 with 10 Axes>"
      ]
     },
     "metadata": {
      "tags": []
     },
     "output_type": "display_data"
    },
    {
     "name": "stdout",
     "output_type": "stream",
     "text": [
      "Epoch :  66/100  Dicriminator Loss : 0.06  Generator Loss : 4.22\n",
      "Epoch :  67/100  Dicriminator Loss : 0.14  Generator Loss : 3.46\n",
      "Epoch :  68/100  Dicriminator Loss : 0.10  Generator Loss : 3.68\n",
      "Epoch :  69/100  Dicriminator Loss : 0.07  Generator Loss : 4.85\n",
      "Epoch :  70/100  Dicriminator Loss : 0.14  Generator Loss : 3.05\n"
     ]
    },
    {
     "data": {
      "image/png": "[encoded data removed]",
      "text/plain": [
       "<Figure size 864x144 with 10 Axes>"
      ]
     },
     "metadata": {
      "tags": []
     },
     "output_type": "display_data"
    },
    {
     "name": "stdout",
     "output_type": "stream",
     "text": [
      "Epoch :  71/100  Dicriminator Loss : 0.23  Generator Loss : 1.87\n",
      "Epoch :  72/100  Dicriminator Loss : 0.08  Generator Loss : 3.61\n",
      "Epoch :  73/100  Dicriminator Loss : 0.10  Generator Loss : 3.28\n",
      "Epoch :  74/100  Dicriminator Loss : 0.08  Generator Loss : 3.63\n",
      "Epoch :  75/100  Dicriminator Loss : 0.09  Generator Loss : 2.87\n"
     ]
    },
    {
     "data": {
      "image/png": "[encoded data removed]",
      "text/plain": [
       "<Figure size 864x144 with 10 Axes>"
      ]
     },
     "metadata": {
      "tags": []
     },
     "output_type": "display_data"
    },
    {
     "name": "stdout",
     "output_type": "stream",
     "text": [
      "Epoch :  76/100  Dicriminator Loss : 0.15  Generator Loss : 2.24\n",
      "Epoch :  77/100  Dicriminator Loss : 0.11  Generator Loss : 2.95\n",
      "Epoch :  78/100  Dicriminator Loss : 0.13  Generator Loss : 4.39\n",
      "Epoch :  79/100  Dicriminator Loss : 0.09  Generator Loss : 3.47\n",
      "Epoch :  80/100  Dicriminator Loss : 0.05  Generator Loss : 4.02\n"
     ]
    },
    {
     "data": {
      "image/png": "[encoded data removed]",
      "text/plain": [
       "<Figure size 864x144 with 10 Axes>"
      ]
     },
     "metadata": {
      "tags": []
     },
     "output_type": "display_data"
    },
    {
     "name": "stdout",
     "output_type": "stream",
     "text": [
      "Epoch :  81/100  Dicriminator Loss : 0.15  Generator Loss : 3.42\n",
      "Epoch :  82/100  Dicriminator Loss : 0.09  Generator Loss : 2.90\n",
      "Epoch :  83/100  Dicriminator Loss : 0.11  Generator Loss : 3.53\n",
      "Epoch :  84/100  Dicriminator Loss : 0.05  Generator Loss : 3.52\n",
      "Epoch :  85/100  Dicriminator Loss : 0.12  Generator Loss : 3.04\n"
     ]
    },
    {
     "data": {
      "image/png": "[encoded data removed]",
      "text/plain": [
       "<Figure size 864x144 with 10 Axes>"
      ]
     },
     "metadata": {
      "tags": []
     },
     "output_type": "display_data"
    },
    {
     "name": "stdout",
     "output_type": "stream",
     "text": [
      "Epoch :  86/100  Dicriminator Loss : 0.07  Generator Loss : 3.07\n",
      "Epoch :  87/100  Dicriminator Loss : 0.07  Generator Loss : 3.29\n",
      "Epoch :  88/100  Dicriminator Loss : 0.11  Generator Loss : 3.44\n",
      "Epoch :  89/100  Dicriminator Loss : 0.15  Generator Loss : 2.84\n",
      "Epoch :  90/100  Dicriminator Loss : 0.09  Generator Loss : 3.11\n"
     ]
    },
    {
     "data": {
      "image/png": "[encoded data removed]",
      "text/plain": [
       "<Figure size 864x144 with 10 Axes>"
      ]
     },
     "metadata": {
      "tags": []
     },
     "output_type": "display_data"
    },
    {
     "name": "stdout",
     "output_type": "stream",
     "text": [
      "Epoch :  91/100  Dicriminator Loss : 0.07  Generator Loss : 3.32\n",
      "Epoch :  92/100  Dicriminator Loss : 0.05  Generator Loss : 3.81\n",
      "Epoch :  93/100  Dicriminator Loss : 0.05  Generator Loss : 3.39\n",
      "Epoch :  94/100  Dicriminator Loss : 0.03  Generator Loss : 3.96\n",
      "Epoch :  95/100  Dicriminator Loss : 0.10  Generator Loss : 3.00\n"
     ]
    },
    {
     "data": {
      "image/png": "[encoded data removed]",
      "text/plain": [
       "<Figure size 864x144 with 10 Axes>"
      ]
     },
     "metadata": {
      "tags": []
     },
     "output_type": "display_data"
    },
    {
     "name": "stdout",
     "output_type": "stream",
     "text": [
      "Epoch :  96/100  Dicriminator Loss : 0.23  Generator Loss : 2.32\n",
      "Epoch :  97/100  Dicriminator Loss : 0.13  Generator Loss : 4.31\n",
      "Epoch :  98/100  Dicriminator Loss : 0.05  Generator Loss : 3.62\n",
      "Epoch :  99/100  Dicriminator Loss : 0.10  Generator Loss : 4.22\n",
      "Epoch :  100/100  Dicriminator Loss : 0.13  Generator Loss : 3.30\n"
     ]
    },
    {
     "data": {
      "image/png": "[encoded data removed]",
      "text/plain": [
       "<Figure size 864x144 with 10 Axes>"
      ]
     },
     "metadata": {
      "tags": []
     },
     "output_type": "display_data"
    },
    {
     "data": {
      "image/png": "[encoded data removed]",
      "text/plain": [
       "<Figure size 720x576 with 1 Axes>"
      ]
     },
     "metadata": {
      "tags": []
     },
     "output_type": "display_data"
    },
    {
     "name": "stdout",
     "output_type": "stream",
     "text": [
      "CPU times: user 48min 18s, sys: 23min 15s, total: 1h 11min 34s\n",
      "Wall time: 1h 25min 56s\n"
     ]
    }
   ],
   "source": [
    "%%time\n",
    "losses = train(100,5)"
   ]
  },
  {
   "cell_type": "code",
   "execution_count": 0,
   "metadata": {
    "colab": {},
    "colab_type": "code",
    "id": "4xnvRQOeYlUC"
   },
   "outputs": [],
   "source": []
  },
  {
   "cell_type": "code",
   "execution_count": 0,
   "metadata": {
    "colab": {},
    "colab_type": "code",
    "id": "TWKHYH6QUAJn"
   },
   "outputs": [],
   "source": [
    "gan.save('gan.h5')\n",
    "generator.save('generator.h5')\n",
    "discriminator.save('discriminator.h5')"
   ]
  },
  {
   "cell_type": "code",
   "execution_count": null,
   "metadata": {},
   "outputs": [],
   "source": []
  },
  {
   "cell_type": "code",
   "execution_count": null,
   "metadata": {},
   "outputs": [],
   "source": []
  }
 ],
 "metadata": {
  "accelerator": "GPU",
  "colab": {
   "collapsed_sections": [],
   "name": "MNIST.ipynb",
   "provenance": [],
   "version": "0.3.2"
  },
  "kernelspec": {
   "display_name": "Python 3",
   "language": "python",
   "name": "python3"
  },
  "language_info": {
   "codemirror_mode": {
    "name": "ipython",
    "version": 3
   },
   "file_extension": ".py",
   "mimetype": "text/x-python",
   "name": "python",
   "nbconvert_exporter": "python",
   "pygments_lexer": "ipython3",
   "version": "3.6.8"
  }
 },
 "nbformat": 4,
 "nbformat_minor": 1
}
